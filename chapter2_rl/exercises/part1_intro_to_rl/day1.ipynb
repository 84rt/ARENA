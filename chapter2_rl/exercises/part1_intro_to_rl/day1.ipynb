{
 "cells": [
  {
   "cell_type": "markdown",
   "metadata": {},
   "source": [
    "## Setup"
   ]
  },
  {
   "cell_type": "code",
   "execution_count": 1,
   "metadata": {},
   "outputs": [
    {
     "name": "stdout",
     "output_type": "stream",
     "text": [
      "Defaulting to user installation because normal site-packages is not writeable\n",
      "Requirement already satisfied: gym==0.23.1 in /home/bart/.local/lib/python3.10/site-packages (0.23.1)\n",
      "Requirement already satisfied: gym-notices>=0.0.4 in /home/bart/.local/lib/python3.10/site-packages (from gym==0.23.1) (0.0.8)\n",
      "Requirement already satisfied: cloudpickle>=1.2.0 in /home/bart/.local/lib/python3.10/site-packages (from gym==0.23.1) (3.0.0)\n",
      "Requirement already satisfied: numpy>=1.18.0 in /home/bart/.local/lib/python3.10/site-packages (from gym==0.23.1) (1.22.1)\n"
     ]
    },
    {
     "name": "stderr",
     "output_type": "stream",
     "text": [
      "/home/bart/.local/lib/python3.10/site-packages/gym/wrappers/monitoring/video_recorder.py:9: DeprecationWarning: The distutils package is deprecated and slated for removal in Python 3.12. Use setuptools or check PEP 632 for potential alternatives\n",
      "  import distutils.spawn\n"
     ]
    }
   ],
   "source": [
    "import os\n",
    "import sys\n",
    "from typing import Optional, Union, Tuple\n",
    "import plotly.express as px\n",
    "import plotly.graph_objects as go\n",
    "import numpy as np\n",
    "import random\n",
    "from tqdm import tqdm\n",
    "import einops\n",
    "from pathlib import Path\n",
    "import matplotlib.pyplot as plt\n",
    "!pip install gym==0.23.1\n",
    "import gym\n",
    "import gym.envs.registration\n",
    "import gym.spaces\n",
    "\n",
    "Arr = np.ndarray\n",
    "max_episode_steps = 1000\n",
    "N_RUNS = 200\n",
    "\n",
    "# Make sure exercises are in the path\n",
    "chapter = \"chapter2_rl\"\n",
    "exercises_dir = Path(f\"{os.getcwd().split(chapter)[0]}/{chapter}/exercises\").resolve()\n",
    "section_dir = (exercises_dir / \"part1_intro_to_rl\").resolve()\n",
    "if str(exercises_dir) not in sys.path: sys.path.append(str(exercises_dir))\n",
    "\n",
    "import part1_intro_to_rl.utils as utils\n",
    "import part1_intro_to_rl.tests as tests\n",
    "from plotly_utils import imshow\n",
    "\n",
    "MAIN = __name__ == \"__main__\""
   ]
  },
  {
   "cell_type": "code",
   "execution_count": 2,
   "metadata": {},
   "outputs": [],
   "source": [
    "ObsType = int\n",
    "ActType = int\n",
    "\n",
    "class MultiArmedBandit(gym.Env):\n",
    "    '''\n",
    "    A class representing a multi-armed bandit environment, based on OpenAI Gym's Env class.\n",
    "\n",
    "    Attributes:\n",
    "        action_space (gym.spaces.Discrete): The space of possible actions, representing the arms of the bandit.\n",
    "        observation_space (gym.spaces.Discrete): The space of possible observations.\n",
    "        num_arms (int): The number of arms in the bandit.\n",
    "        stationary (bool): Indicates whether the reward distribution (i.e. the arm_reward_means) is stationary or not.\n",
    "        arm_reward_means (np.ndarray): The mean rewards for each arm.\n",
    "    '''\n",
    "    action_space: gym.spaces.Discrete\n",
    "    observation_space: gym.spaces.Discrete\n",
    "    num_arms: int\n",
    "    stationary: bool\n",
    "    arm_reward_means: np.ndarray\n",
    "\n",
    "    def __init__(self, num_arms=10, stationary=True):\n",
    "        '''\n",
    "        Initializes the MultiArmedBandit environment.\n",
    "\n",
    "        Args:\n",
    "            num_arms (int): The number of arms for the bandit. Defaults to 10.\n",
    "            stationary (bool): Whether the bandit has a stationary reward distribution. Defaults to True.\n",
    "        '''\n",
    "        super().__init__()\n",
    "        self.num_arms = num_arms\n",
    "        self.stationary = stationary\n",
    "        self.observation_space = gym.spaces.Discrete(1)\n",
    "        self.action_space = gym.spaces.Discrete(num_arms)\n",
    "        self.reset()\n",
    "\n",
    "    def step(self, arm: ActType) -> tuple[ObsType, float, bool, dict]:\n",
    "        '''\n",
    "        Takes an action by choosing an arm and returns the result of the action.\n",
    "\n",
    "        Args:\n",
    "            arm (ActType): The selected arm to pull in the bandit.\n",
    "\n",
    "        Returns:\n",
    "            tuple[ObsType, float, bool, dict]: A tuple containing the observation, reward, done flag, and additional info.\n",
    "        '''\n",
    "        assert self.action_space.contains(arm)\n",
    "        if not self.stationary:\n",
    "            q_drift = self.np_random.normal(loc=0.0, scale=0.01, size=self.num_arms)\n",
    "            self.arm_reward_means += q_drift\n",
    "            self.best_arm = int(np.argmax(self.arm_reward_means))\n",
    "        reward = self.np_random.normal(loc=self.arm_reward_means[arm], scale=1.0)\n",
    "        obs = 0\n",
    "        done = False\n",
    "        info = dict(best_arm=self.best_arm)\n",
    "        return (obs, reward, done, info)\n",
    "\n",
    "    def reset(self, seed: int | None=None, options=None) -> ObsType:\n",
    "        '''\n",
    "        Resets the environment to its initial state.\n",
    "\n",
    "        Args:\n",
    "            seed (int | None): The seed for random number generation. Defaults to None.\n",
    "            return_info (bool): If True, return additional info. Defaults to False.\n",
    "            options (dict): Additional options for environment reset. Defaults to None.\n",
    "\n",
    "        Returns:\n",
    "            ObsType: The initial observation.\n",
    "        '''\n",
    "        super().reset(seed=seed)\n",
    "        if self.stationary:\n",
    "            self.arm_reward_means = self.np_random.normal(loc=0.0, scale=1.0, size=self.num_arms)\n",
    "        else:\n",
    "            self.arm_reward_means = np.zeros(shape=[self.num_arms])\n",
    "        self.best_arm = int(np.argmax(self.arm_reward_means))\n",
    "        return 0\n",
    "\n",
    "    def render(self, mode=\"human\"):\n",
    "        '''\n",
    "        Renders the state of the environment, in the form of a violin plot.\n",
    "        '''\n",
    "        assert mode == \"human\", f\"Mode {mode} not supported!\"\n",
    "        bandit_samples = []\n",
    "        for arm in range(self.action_space.n):\n",
    "            bandit_samples += [np.random.normal(loc=self.arm_reward_means[arm], scale=1.0, size=1000)]\n",
    "        plt.violinplot(bandit_samples, showmeans=True)\n",
    "        plt.xlabel(\"Bandit Arm\")\n",
    "        plt.ylabel(\"Reward Distribution\")\n",
    "        plt.show()"
   ]
  },
  {
   "cell_type": "code",
   "execution_count": 3,
   "metadata": {},
   "outputs": [
    {
     "name": "stdout",
     "output_type": "stream",
     "text": [
      "Our env inside its wrappers looks like: <TimeLimit<OrderEnforcing<MultiArmedBandit<ArmedBanditTestbed-v0>>>>\n"
     ]
    }
   ],
   "source": [
    "gym.envs.registration.register(\n",
    "    id=\"ArmedBanditTestbed-v0\",\n",
    "    entry_point=MultiArmedBandit,\n",
    "    max_episode_steps=max_episode_steps,\n",
    "    nondeterministic=True,\n",
    "    reward_threshold=1.0,\n",
    "    kwargs={\"num_arms\": 10, \"stationary\": True},\n",
    ")\n",
    "\n",
    "env = gym.make(\"ArmedBanditTestbed-v0\")\n",
    "print(f\"Our env inside its wrappers looks like: {env}\")"
   ]
  },
  {
   "cell_type": "code",
   "execution_count": 4,
   "metadata": {},
   "outputs": [],
   "source": [
    "class Agent:\n",
    "    '''\n",
    "    Base class for agents in a multi-armed bandit environment\n",
    "\n",
    "    (you do not need to add any implementation here)\n",
    "    '''\n",
    "    rng: np.random.Generator\n",
    "\n",
    "    def __init__(self, num_arms: int, seed: int):\n",
    "        self.num_arms = num_arms\n",
    "        self.reset(seed)\n",
    "\n",
    "    def get_action(self) -> ActType:\n",
    "        raise NotImplementedError()\n",
    "\n",
    "    def observe(self, action: ActType, reward: float, info: dict) -> None:\n",
    "        pass\n",
    "\n",
    "    def reset(self, seed: int) -> None:\n",
    "        self.rng = np.random.default_rng(seed)\n",
    "\n",
    "\n",
    "def run_episode(env: gym.Env, agent: Agent, seed: int):\n",
    "    '''\n",
    "    Runs a single episode of interaction between an agent and an environment.\n",
    "\n",
    "    Args:\n",
    "        env (gym.Env): The environment in which the agent operates.\n",
    "        agent (Agent): The agent that takes actions in the environment.\n",
    "        seed (int): The seed for random number generation to ensure reproducibility.\n",
    "\n",
    "    Returns:\n",
    "        tuple[np.ndarray, np.ndarray]: A tuple containing arrays of rewards\n",
    "        received in each step and a flag indicating if the chosen arm was the best.\n",
    "    '''\n",
    "    (rewards, was_best) = ([], [])\n",
    "\n",
    "    env.reset(seed=seed)\n",
    "    agent.reset(seed=seed)\n",
    "\n",
    "    done = False\n",
    "    while not done:\n",
    "        arm = agent.get_action()\n",
    "        (obs, reward, done, truncated, info) = env.step(arm)\n",
    "        agent.observe(arm, reward, info)\n",
    "        rewards.append(reward)\n",
    "        was_best.append(1 if arm == info[\"best_arm\"] else 0)\n",
    "\n",
    "    rewards = np.array(rewards, dtype=float)\n",
    "    was_best = np.array(was_best, dtype=int)\n",
    "    return (rewards, was_best)\n",
    "\n",
    "\n",
    "def run_agent(env: gym.Env, agent: Agent, n_runs=200, base_seed=1):\n",
    "    all_rewards = []\n",
    "    all_was_bests = []\n",
    "    base_rng = np.random.default_rng(base_seed)\n",
    "    for n in tqdm(range(n_runs)):\n",
    "        seed = base_rng.integers(low=0, high=10_000, size=1).item()\n",
    "        (rewards, corrects) = run_episode(env, agent, seed)\n",
    "        all_rewards.append(rewards)\n",
    "        all_was_bests.append(corrects)\n",
    "    return (np.array(all_rewards), np.array(all_was_bests))"
   ]
  },
  {
   "cell_type": "markdown",
   "metadata": {},
   "source": [
    "# Multi-Armed Bandit"
   ]
  },
  {
   "cell_type": "markdown",
   "metadata": {},
   "source": [
    "#### Implement RandomAgent"
   ]
  },
  {
   "cell_type": "code",
   "execution_count": 5,
   "metadata": {},
   "outputs": [
    {
     "name": "stderr",
     "output_type": "stream",
     "text": [
      "  0%|          | 0/200 [00:00<?, ?it/s]\n"
     ]
    },
    {
     "ename": "ValueError",
     "evalue": "not enough values to unpack (expected 5, got 4)",
     "output_type": "error",
     "traceback": [
      "\u001b[0;31m---------------------------------------------------------------------------\u001b[0m",
      "\u001b[0;31mValueError\u001b[0m                                Traceback (most recent call last)",
      "Cell \u001b[0;32mIn[5], line 18\u001b[0m\n\u001b[1;32m     16\u001b[0m env \u001b[38;5;241m=\u001b[39m gym\u001b[38;5;241m.\u001b[39mmake(\u001b[38;5;124m\"\u001b[39m\u001b[38;5;124mArmedBanditTestbed-v0\u001b[39m\u001b[38;5;124m\"\u001b[39m, num_arms\u001b[38;5;241m=\u001b[39mnum_arms, stationary\u001b[38;5;241m=\u001b[39mstationary)\n\u001b[1;32m     17\u001b[0m agent \u001b[38;5;241m=\u001b[39m RandomAgent(num_arms, \u001b[38;5;241m0\u001b[39m)\n\u001b[0;32m---> 18\u001b[0m all_rewards, all_corrects \u001b[38;5;241m=\u001b[39m \u001b[43mrun_agent\u001b[49m\u001b[43m(\u001b[49m\u001b[43menv\u001b[49m\u001b[43m,\u001b[49m\u001b[43m \u001b[49m\u001b[43magent\u001b[49m\u001b[43m)\u001b[49m\n\u001b[1;32m     20\u001b[0m \u001b[38;5;28mprint\u001b[39m(\u001b[38;5;124mf\u001b[39m\u001b[38;5;124m\"\u001b[39m\u001b[38;5;124mExpected correct freq: \u001b[39m\u001b[38;5;132;01m{\u001b[39;00m\u001b[38;5;241m1\u001b[39m\u001b[38;5;241m/\u001b[39m\u001b[38;5;241m10\u001b[39m\u001b[38;5;132;01m}\u001b[39;00m\u001b[38;5;124m, actual: \u001b[39m\u001b[38;5;132;01m{\u001b[39;00mall_corrects\u001b[38;5;241m.\u001b[39mmean()\u001b[38;5;132;01m:\u001b[39;00m\u001b[38;5;124m.6f\u001b[39m\u001b[38;5;132;01m}\u001b[39;00m\u001b[38;5;124m\"\u001b[39m)\n\u001b[1;32m     21\u001b[0m \u001b[38;5;28;01massert\u001b[39;00m np\u001b[38;5;241m.\u001b[39misclose(all_corrects\u001b[38;5;241m.\u001b[39mmean(), \u001b[38;5;241m1\u001b[39m\u001b[38;5;241m/\u001b[39m\u001b[38;5;241m10\u001b[39m, atol\u001b[38;5;241m=\u001b[39m\u001b[38;5;241m0.05\u001b[39m), \u001b[38;5;124m\"\u001b[39m\u001b[38;5;124mRandom agent is not random enough!\u001b[39m\u001b[38;5;124m\"\u001b[39m\n",
      "Cell \u001b[0;32mIn[4], line 60\u001b[0m, in \u001b[0;36mrun_agent\u001b[0;34m(env, agent, n_runs, base_seed)\u001b[0m\n\u001b[1;32m     58\u001b[0m \u001b[38;5;28;01mfor\u001b[39;00m n \u001b[38;5;129;01min\u001b[39;00m tqdm(\u001b[38;5;28mrange\u001b[39m(n_runs)):\n\u001b[1;32m     59\u001b[0m     seed \u001b[38;5;241m=\u001b[39m base_rng\u001b[38;5;241m.\u001b[39mintegers(low\u001b[38;5;241m=\u001b[39m\u001b[38;5;241m0\u001b[39m, high\u001b[38;5;241m=\u001b[39m\u001b[38;5;241m10_000\u001b[39m, size\u001b[38;5;241m=\u001b[39m\u001b[38;5;241m1\u001b[39m)\u001b[38;5;241m.\u001b[39mitem()\n\u001b[0;32m---> 60\u001b[0m     (rewards, corrects) \u001b[38;5;241m=\u001b[39m \u001b[43mrun_episode\u001b[49m\u001b[43m(\u001b[49m\u001b[43menv\u001b[49m\u001b[43m,\u001b[49m\u001b[43m \u001b[49m\u001b[43magent\u001b[49m\u001b[43m,\u001b[49m\u001b[43m \u001b[49m\u001b[43mseed\u001b[49m\u001b[43m)\u001b[49m\n\u001b[1;32m     61\u001b[0m     all_rewards\u001b[38;5;241m.\u001b[39mappend(rewards)\n\u001b[1;32m     62\u001b[0m     all_was_bests\u001b[38;5;241m.\u001b[39mappend(corrects)\n",
      "Cell \u001b[0;32mIn[4], line 44\u001b[0m, in \u001b[0;36mrun_episode\u001b[0;34m(env, agent, seed)\u001b[0m\n\u001b[1;32m     42\u001b[0m \u001b[38;5;28;01mwhile\u001b[39;00m \u001b[38;5;129;01mnot\u001b[39;00m done:\n\u001b[1;32m     43\u001b[0m     arm \u001b[38;5;241m=\u001b[39m agent\u001b[38;5;241m.\u001b[39mget_action()\n\u001b[0;32m---> 44\u001b[0m     (obs, reward, done, truncated, info) \u001b[38;5;241m=\u001b[39m env\u001b[38;5;241m.\u001b[39mstep(arm)\n\u001b[1;32m     45\u001b[0m     agent\u001b[38;5;241m.\u001b[39mobserve(arm, reward, info)\n\u001b[1;32m     46\u001b[0m     rewards\u001b[38;5;241m.\u001b[39mappend(reward)\n",
      "\u001b[0;31mValueError\u001b[0m: not enough values to unpack (expected 5, got 4)"
     ]
    }
   ],
   "source": [
    "class RandomAgent(Agent):\n",
    "\n",
    "    def get_action(self) -> ActType:\n",
    "        # TODO\n",
    "        # This agent should pick an arm at random, i.e. from the range [0, ..., num_arms-1], and return it as an integer.\n",
    "        # do that by using np.random.default_rng()\n",
    "\n",
    "        return self.rng.integers(low=0, high=self.num_arms)\n",
    "\n",
    "    def __repr__(self):\n",
    "        return \"RandomAgent\"\n",
    "\n",
    "\n",
    "num_arms = 10\n",
    "stationary = True\n",
    "env = gym.make(\"ArmedBanditTestbed-v0\", num_arms=num_arms, stationary=stationary)\n",
    "agent = RandomAgent(num_arms, 0)\n",
    "all_rewards, all_corrects = run_agent(env, agent)\n",
    "\n",
    "print(f\"Expected correct freq: {1/10}, actual: {all_corrects.mean():.6f}\")\n",
    "assert np.isclose(all_corrects.mean(), 1/10, atol=0.05), \"Random agent is not random enough!\"\n",
    "\n",
    "print(f\"Expected average reward: 0.0, actual: {all_rewards.mean():.6f}\")\n",
    "assert np.isclose(all_rewards.mean(), 0, atol=0.05), \"Random agent should be getting mean arm reward, which is zero.\"\n",
    "\n",
    "print(\"All tests passed!\")"
   ]
  },
  {
   "cell_type": "markdown",
   "metadata": {},
   "source": [
    "#### Implement Cheater Agent"
   ]
  },
  {
   "cell_type": "markdown",
   "metadata": {},
   "source": [
    "#### Implement UCBA selection"
   ]
  },
  {
   "cell_type": "markdown",
   "metadata": {},
   "source": [
    "# Tabular RL & Policy Improvement"
   ]
  },
  {
   "cell_type": "code",
   "execution_count": null,
   "metadata": {},
   "outputs": [],
   "source": []
  }
 ],
 "metadata": {
  "kernelspec": {
   "display_name": "Python 3",
   "language": "python",
   "name": "python3"
  },
  "language_info": {
   "codemirror_mode": {
    "name": "ipython",
    "version": 3
   },
   "file_extension": ".py",
   "mimetype": "text/x-python",
   "name": "python",
   "nbconvert_exporter": "python",
   "pygments_lexer": "ipython3",
   "version": "3.10.12"
  }
 },
 "nbformat": 4,
 "nbformat_minor": 2
}
