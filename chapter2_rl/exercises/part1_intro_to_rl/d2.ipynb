{
 "cells": [
  {
   "cell_type": "markdown",
   "metadata": {},
   "source": [
    "## Setup"
   ]
  },
  {
   "cell_type": "code",
   "execution_count": 3,
   "metadata": {},
   "outputs": [
    {
     "name": "stdout",
     "output_type": "stream",
     "text": [
      "Defaulting to user installation because normal site-packages is not writeable\n",
      "Requirement already satisfied: wandb==0.13.10 in /home/bart/.local/lib/python3.10/site-packages (0.13.10)\n",
      "Requirement already satisfied: GitPython>=1.0.0 in /home/bart/.local/lib/python3.10/site-packages (from wandb==0.13.10) (3.1.27)\n",
      "Requirement already satisfied: pathtools in /home/bart/.local/lib/python3.10/site-packages (from wandb==0.13.10) (0.1.2)\n",
      "Requirement already satisfied: Click!=8.0.0,>=7.0 in /home/bart/.local/lib/python3.10/site-packages (from wandb==0.13.10) (8.1.7)\n",
      "Requirement already satisfied: docker-pycreds>=0.4.0 in /home/bart/.local/lib/python3.10/site-packages (from wandb==0.13.10) (0.4.0)\n",
      "Requirement already satisfied: appdirs>=1.4.3 in /usr/lib/python3/dist-packages (from wandb==0.13.10) (1.4.4)\n",
      "Requirement already satisfied: sentry-sdk>=1.0.0 in /home/bart/.local/lib/python3.10/site-packages (from wandb==0.13.10) (2.14.0)\n",
      "Requirement already satisfied: PyYAML in /usr/lib/python3/dist-packages (from wandb==0.13.10) (5.4.1)\n",
      "Requirement already satisfied: setuptools in /usr/lib/python3/dist-packages (from wandb==0.13.10) (59.6.0)\n",
      "Requirement already satisfied: protobuf!=4.21.0,<5,>=3.19.0 in /home/bart/.local/lib/python3.10/site-packages (from wandb==0.13.10) (4.25.5)\n",
      "Requirement already satisfied: requests<3,>=2.0.0 in /home/bart/.local/lib/python3.10/site-packages (from wandb==0.13.10) (2.31.0)\n",
      "Requirement already satisfied: psutil>=5.0.0 in /home/bart/.local/lib/python3.10/site-packages (from wandb==0.13.10) (5.9.4)\n",
      "Requirement already satisfied: setproctitle in /usr/lib/python3/dist-packages (from wandb==0.13.10) (1.2.2)\n",
      "Requirement already satisfied: six>=1.4.0 in /home/bart/.local/lib/python3.10/site-packages (from docker-pycreds>=0.4.0->wandb==0.13.10) (1.16.0)\n",
      "Requirement already satisfied: gitdb<5,>=4.0.1 in /home/bart/.local/lib/python3.10/site-packages (from GitPython>=1.0.0->wandb==0.13.10) (4.0.9)\n",
      "Requirement already satisfied: certifi>=2017.4.17 in /home/bart/.local/lib/python3.10/site-packages (from requests<3,>=2.0.0->wandb==0.13.10) (2023.7.22)\n",
      "Requirement already satisfied: idna<4,>=2.5 in /usr/lib/python3/dist-packages (from requests<3,>=2.0.0->wandb==0.13.10) (3.3)\n",
      "Requirement already satisfied: charset-normalizer<4,>=2 in /home/bart/.local/lib/python3.10/site-packages (from requests<3,>=2.0.0->wandb==0.13.10) (2.1.0)\n",
      "Requirement already satisfied: urllib3<3,>=1.21.1 in /home/bart/.local/lib/python3.10/site-packages (from requests<3,>=2.0.0->wandb==0.13.10) (2.2.3)\n",
      "Requirement already satisfied: smmap<6,>=3.0.1 in /home/bart/.local/lib/python3.10/site-packages (from gitdb<5,>=4.0.1->GitPython>=1.0.0->wandb==0.13.10) (5.0.0)\n"
     ]
    }
   ],
   "source": [
    "import os\n",
    "from dataclasses import dataclass\n",
    "import numpy as np\n",
    "import gym\n",
    "import gym.spaces\n",
    "import gym.envs.registration\n",
    "import plotly.express as px\n",
    "import plotly.graph_objects as go\n",
    "from tqdm import tqdm, trange\n",
    "import sys\n",
    "import time\n",
    "import re\n",
    "from dataclasses import dataclass\n",
    "from typing import Any, Optional, Union, Tuple\n",
    "import torch as t\n",
    "from torch import nn, Tensor\n",
    "from gym.spaces import Discrete, Box\n",
    "from numpy.random import Generator\n",
    "import pandas as pd\n",
    "# !pip install wandb==0.13.10\n",
    "import wandb\n",
    "import pandas as pd\n",
    "from pathlib import Path\n",
    "from jaxtyping import Float, Int, Bool\n",
    "from IPython.display import clear_output\n",
    "import warnings\n",
    "warnings.filterwarnings('ignore')\n",
    "\n",
    "Arr = np.ndarray\n",
    "\n",
    "# Make sure exercises are in the path\n",
    "chapter = r\"chapter2_rl\"\n",
    "exercises_dir = Path(f\"{os.getcwd().split(chapter)[0]}/{chapter}/exercises\").resolve()\n",
    "section_dir = exercises_dir / \"part2_dqn\"\n",
    "if str(exercises_dir) not in sys.path: sys.path.append(str(exercises_dir))\n",
    "\n",
    "from part1_intro_to_rl.utils import make_env\n",
    "from part1_intro_to_rl.solutions import Environment, Toy, Norvig, find_optimal_policy\n",
    "import part2_q_learning_and_dqn.utils as utils\n",
    "import part2_q_learning_and_dqn.tests as tests\n",
    "from plotly_utils import line, cliffwalk_imshow, plot_cartpole_obs_and_dones\n",
    "\n",
    "device = t.device('mps' if t.backends.mps.is_available() else 'cuda' if t.cuda.is_available() else 'cpu')\n",
    "\n",
    "MAIN = __name__ == \"__main__\""
   ]
  },
  {
   "cell_type": "markdown",
   "metadata": {},
   "source": [
    "## Q-Learning"
   ]
  },
  {
   "cell_type": "code",
   "execution_count": null,
   "metadata": {},
   "outputs": [],
   "source": []
  }
 ],
 "metadata": {
  "kernelspec": {
   "display_name": "Python 3",
   "language": "python",
   "name": "python3"
  },
  "language_info": {
   "codemirror_mode": {
    "name": "ipython",
    "version": 3
   },
   "file_extension": ".py",
   "mimetype": "text/x-python",
   "name": "python",
   "nbconvert_exporter": "python",
   "pygments_lexer": "ipython3",
   "version": "3.10.12"
  }
 },
 "nbformat": 4,
 "nbformat_minor": 2
}
